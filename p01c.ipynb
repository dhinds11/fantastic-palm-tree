{
  "cells": [
    {
      "cell_type": "markdown",
      "metadata": {
        "id": "view-in-github",
        "colab_type": "text"
      },
      "source": [
        "<a href=\"https://colab.research.google.com/github/dhinds11/fantastic-palm-tree/blob/biosc-1540/p01c.ipynb\" target=\"_parent\"><img src=\"https://colab.research.google.com/assets/colab-badge.svg\" alt=\"Open In Colab\"/></a>"
      ]
    },
    {
      "cell_type": "markdown",
      "metadata": {
        "id": "YnsU3L0X0wLA"
      },
      "source": [
        "<h1 style=\"margin-bottom: 0.4em; text-align: center;\">\n",
        "    <b>Project 1</b><br>\n",
        "    Assignment C\n",
        "</h1>\n",
        "<h2 style=\"margin-top: 0.0em; text-align: center;\">\n",
        "    Genome assembly\n",
        "</h2>\n",
        "\n",
        "<p style=\"text-align: center;\">\n",
        "    <object hspace=\"50\">\n",
        "        <strong>Due</strong></a>: Jan 31, 2025 by 11:59 p.m.\n",
        "    </object>\n",
        "    <object hspace=\"50\">\n",
        "        <strong>Points</strong></a>: 60\n",
        "    </object>\n",
        "</p>\n",
        "\n",
        "Always ensure you are working within in same \"BIOSC 1540 Project\" that you used for [P01B](https://pitt-biosc1540-2025s.oasci.org/lectures/04A/).\n",
        "If you encounter any issues with Galaxy, check their [support](https://galaxyproject.org/support/) and [training](https://training.galaxyproject.org/).\n",
        "\n",
        "Please set the `STUDENT_ID` variable in the cell below to your student ID number."
      ]
    },
    {
      "cell_type": "code",
      "execution_count": null,
      "metadata": {
        "id": "0FsMGbqp0wLB"
      },
      "outputs": [],
      "source": [
        "STUDENT_ID = 4523891"
      ]
    },
    {
      "cell_type": "markdown",
      "metadata": {
        "id": "_S6H_C1p0wLB"
      },
      "source": [
        "## Q01\n",
        "\n",
        "First, we are going to download the reference genome for [*Staphylococcus aureus* MRSA252](https://www.ncbi.nlm.nih.gov/nuccore/?from_uid=32628&linkname=assembly_nuccore_refseq).\n",
        "\n",
        "1.  In the Galaxy interface, search for \"NCBI Datasets Genomes\" in the tools panel.\n",
        "2.  Click on \"NCBI Datasets Genomes download genome sequence, annotation and metadata\".\n",
        "3.  In the tool interface, set the following parameters:\n",
        "    -   \"Enter comma separated list of accessions\": enter `GCF_000011505.1`\n",
        "4.  Click \"Run Tool\".\n",
        "\n",
        "### A\n",
        "\n",
        "In the assembly information page linked above (or click [here](https://www.ncbi.nlm.nih.gov/nuccore/?from_uid=32628&linkname=assembly_nuccore_refseq)), please fill out the following three statistics."
      ]
    },
    {
      "cell_type": "code",
      "execution_count": null,
      "metadata": {
        "id": "haw2mup90wLB"
      },
      "outputs": [],
      "source": [
        "GENOME_LENGTH = 2902619\n",
        "N_GENES = 2881\n",
        "N_CDS_WITH_PROTEIN = 2685"
      ]
    },
    {
      "cell_type": "markdown",
      "metadata": {
        "id": "lnX3J6a-0wLB"
      },
      "source": [
        "### B\n",
        "\n",
        "Using the [PGAP documentation](https://www.ncbi.nlm.nih.gov/refseq/annotation_prok/), what does \"CDSs (with protein)\" mean?\n",
        "\n",
        "---\n",
        "\n",
        "A CDS (with protein) is a coding sequence that has a corresponding protein at the same locus."
      ]
    },
    {
      "cell_type": "markdown",
      "metadata": {
        "id": "Ps9zWSbA0wLC"
      },
      "source": [
        "## Q02\n",
        "\n",
        "We will use [SPAdes](https://ablab.github.io/spades/), a versatile genome assembler designed for both small genomes and single-cell projects, to assemble our genome.\n",
        "Follow the instructions below for both your cleaned parental and evolved FASTQ files (after fastp).\n",
        "\n",
        "1.  In the Galaxy interface, search for \"SPAdes\" in the tools panel.\n",
        "2.  Click on \"SPAdes genome assembler for genomes of regular and single-cell projects\".\n",
        "3.  In the tool interface, set the following parameters:\n",
        "    -   \"Operation mode\": Select \"Assembly and error correction\"\n",
        "    -   \"Single-end or paired-end short-reads\": Choose \"Paired-end: list of dataset pairs\"\n",
        "    -   \"FASTA/FASTQ file(s)\": Select your paired-end output from the fastp calculation (from [P01B](https://pitt-biosc1540-2025s.oasci.org/lectures/04A/)).\n",
        "    -   Under \"Pipeline options\", check \"Isolate: highly recommended for high-coverage isolate and multi-cell data (--isolate)\" to be selected.\n",
        "4.  Click \"Run Tool\".\n",
        "\n",
        "Once this finishes, which could take from minutes to hours, we will use [quast](https://github.com/ablab/quast) to quantify the quality of our assembly.\n",
        "Follow the instructions below for both your parental and evolved SPAdes assemblies.\n",
        "\n",
        "1.  In the Galaxy interface, search for \"Quast\" in the tools panel.\n",
        "2.  Click on \"Quast GEnome assembly Quality\"\n",
        "3.  In the tool interface, set the following options:\n",
        "    -   \"Assembly mode?\" set to \"Individual assembly (1 contig file per sample)\"\n",
        "    -   \"Contigs/scaffolds file\" select your SPAdes Scaffolds.\n",
        "    -   \"Use a reference genome?\" should be \"Yes\"\n",
        "    -   For \"Reference genome\", click the \"Dataset icon\" (looks like a folder) and select \"NCBI Genome Dataset: genome fasta\".\n",
        "4.  Click \"Run Tool\".\n",
        "\n",
        "\n",
        "### A\n",
        "\n",
        "Please fill out the following variables from your quast HTML report."
      ]
    },
    {
      "cell_type": "code",
      "execution_count": null,
      "metadata": {
        "id": "xqjG2Tqv0wLC"
      },
      "outputs": [],
      "source": [
        "PARENTAL_GENOME_FRACTION = 88.369\n",
        "PARENTAL_DUPLICATION_RATIO = 1.005\n",
        "PARENTAL_TOTAL_ALIGNED_LENGTH = 2525614\n",
        "PARENTAL_NUM_MISASSEMBLIES = 56\n",
        "\n",
        "PARENTAL_N_CONTIGS = 42\n",
        "PARENTAL_N50 = 133500\n",
        "PARENTAL_L50 = 8\n",
        "PARENTAL_GC_PERCENT = 33"
      ]
    },
    {
      "cell_type": "code",
      "execution_count": null,
      "metadata": {
        "id": "KvpMExI40wLC"
      },
      "outputs": [],
      "source": [
        "EVOLVED_GENOME_FRACTION = 88.234\n",
        "EVOLVED_DUPLICATION_RATIO = 1.008\n",
        "EVOLVED_TOTAL_ALIGNED_LENGTH = \t2522712\n",
        "EVOLVED_NUM_MISASSEMBLIES = 57\n",
        "\n",
        "EVOLVED_N_CONTIGS = 30\n",
        "EVOLVED_N50 = 183523\n",
        "EVOLVED_L50 = 6\n",
        "EVOLVED_GC_PERCENT = 33"
      ]
    },
    {
      "cell_type": "markdown",
      "metadata": {
        "id": "1e2vOCed0wLC"
      },
      "source": [
        "### B\n",
        "\n",
        "Using the assembly statistics provided for the parental and evolved genomes, determine which assembly (if any) is more reliable.\n",
        "Your answer should compare quantifiable metrics such as N50, L50, total assembly length, number of contigs, and any other relevant quality indicators.\n",
        "Be sure to explain your reasoning and how these metrics support your conclusion.\n",
        "\n",
        "---\n",
        "The genome of the parental is likely more reliable. Almost all of the metrics are incredibly close thouh. I would say the amount of contigs is the big indication to me that the parental genome is more reliable (redundancy of contigs lead to stronger genome assembly).  "
      ]
    },
    {
      "cell_type": "markdown",
      "metadata": {
        "id": "HgO2Dbic0wLC"
      },
      "source": [
        "### C\n",
        "\n",
        "Compare the genome fraction between the reference genome and the parental assembly.\n",
        "Use this comparison to interpret the quality and completeness of your parental assembly.\n",
        "Discuss what the genome fraction indicates about how well the assembly represents the reference genome, including potential gaps, missing regions, or errors.\n",
        "\n",
        "---\n",
        "The genome fraction is the total # of aligned bps (observed in both reference genome and at least one contig) divided by overall reference genome length. This number should hypothetically predict the completeness. This number in my parental assembly is 88.369 so we saw 88.369% of the genome aligned. This does not tell us much about missing regions or errors though, there is no indication if specific genes are missing (which I would imagine to be very important).\n"
      ]
    },
    {
      "cell_type": "markdown",
      "metadata": {
        "id": "6j-e7PQO0wLC"
      },
      "source": [
        "## Q03\n",
        "\n",
        "Using the reads provided in the FASTA file, perform a manual greedy assembly.\n",
        "\n",
        "```text\n",
        ">read_1\n",
        "TGTACGTA\n",
        ">read_2\n",
        "TACATTAA\n",
        ">read_3\n",
        "TAAGCGAG\n",
        ">read_4\n",
        "GCCACTAG\n",
        ">read_5\n",
        "AGCGTT\n",
        ">read_6\n",
        "CATTAAGC\n",
        ">read_7\n",
        "ATTAAGCG\n",
        ">read_8\n",
        "ACGTACAT\n",
        ">read_9\n",
        "GTACGTAC\n",
        ">read_10\n",
        "ACGTACAT\n",
        "```\n",
        "\n",
        "Instructions for submission:\n",
        "\n",
        "1. Write your step-by-step work for the greedy assembly directly in the notebook below this prompt.\n",
        "2. Clearly show the overlaps you identify at each step, the reads you merge, and the resulting sequences after each merge.\n",
        "3. Provide the final assembled sequence(s) at the end of your explanation.\n",
        "\n",
        "**Example Format for Answer:**\n",
        "\n",
        "1. **Step 1:**\n",
        "   - Overlap between `read_1` and `read_9`: `TGTACGTA` overlaps with `GTACGTAC` (overlap = 7 bases).\n",
        "   - Merge: `TGTACGTAC`.\n",
        "   - Remaining reads: `[merged_read, read_2, read_3, ...]`.\n",
        "2. **Step 2:**\n",
        "   - Overlap between `merged_read` and `read_10`: `ACGTACAT` overlaps with `TACAT...` (overlap = 5 bases).\n",
        "   - Merge: `TGTACGTACAT`.\n",
        "   - Remaining reads: `[merged_read, read_2, read_3, ...]`.\n",
        "\n",
        "*(Continue this process for all steps.)*\n",
        "\n",
        "4. **Final Assembly:**\n",
        "   - Assembled sequence(s): `TGTACGTACAT...` (or list of contigs if not fully assembled).\n",
        "\n",
        "---"
      ]
    },
    {
      "cell_type": "markdown",
      "metadata": {
        "id": "4h_B3bcl0wLD"
      },
      "source": [
        "**Step 1:**\n",
        "   - Overlap between `read_6` and `read_7`: `CATTAAGC` overlaps with `ATTAAGCG` (overlap = 7 bases).\n",
        "   - Merge: `CATTAAGCG`.\n",
        "   - Remaining reads: `[merged_read, read_1, read_2, read_3, read_4, read_5, read_8, read_9, read_10]`.\n",
        "\n",
        "**Step 2:**\n",
        "   - Overlap between `read_2` and `merged_read`: `TACATTAA` overlaps with `CATTAAGCG` (overlap = 6 bases).\n",
        "   - Merge: `TACATTAAGCG`.\n",
        "   - Remaining reads: `[merged_read, read_1, read_3, read_4, read_5, read_8, read_9, read_10]`.\n",
        "   \n",
        "**Step 3:**\n",
        "   - Overlap between `read_8` and `merged_read`: `ACGTACAT` overlaps with `TACATTAAGCG` (overlap = 5 bases).\n",
        "   - Merge: `ACGTACATTAAGCG`.\n",
        "   - Remaining reads: `[merged_read, read_1, read_3, read_4, read_5, read_9, read_10]`.\n",
        "\n",
        "**Step 4:**\n",
        "   - Overlap between `read_1` and `merged_read`: `TGTACGTA` overlaps with `ACGTACATTAAGCG` (overlap = 5 bases).\n",
        "   - Merge: `TGTACGTACATTAAGCG`.\n",
        "   - Remaining reads: `[merged_read, read_3, read_4, read_5, read_9, read_10]`.\n",
        "\n",
        "**Step 5:**\n",
        "   - Overlap between `read_3` and `merged_read`: `TAAGCGAG` overlaps with `TGTACGTACATTAAGCG` (overlap = 6 bases).\n",
        "   - Merge: `TGTACGTACATTAAGCGAG`.\n",
        "   - Remaining reads: `[merged_read, read_4, read_5, read_9, read_10]`.\n",
        "   \n",
        "**Step 5:**\n",
        "   - Overlap between `read_3` and `merged_read`: `TAAGCGAG` overlaps with `TGTACGTACATTAAGCG` (overlap = 6 bases).\n",
        "   - Merge: `TGTACGTACATTAAGCGAG`.\n",
        "   - Remaining reads: `[merged_read, read_4, read_5, read_9, read_10]`.\n",
        "\n",
        "**Step 6:**\n",
        "   - Overlap between `read_4` and `read_5`: `GCCACTAG` overlaps with `AGCGTT` (overlap = 2 bases).\n",
        "   - Merge: `GCCACTAGCGTT`.\n",
        "   - Remaining reads: `[merged_read, merged_read2, read_9, read_10]`.\n",
        "\n",
        "**Step 7:**\n",
        "   - Overlap between `read_9` and `read_10`: `GTACGTAC` overlaps with `ACGTACAT` (overlap = 2 bases).\n",
        "   - Merge: `GTACGTACGTACT`.\n",
        "   - Remaining reads: `[merged_read, merged_read2, merged_read3]`."
      ]
    },
    {
      "cell_type": "markdown",
      "metadata": {
        "id": "iq22jzpF0wLD"
      },
      "source": [
        "### B\n",
        "\n",
        "Using the reads provided in the above FASTA file, construct a De Bruijn graph to model the relationships between overlapping sequences.\n",
        "A De Bruijn graph is a powerful tool in genome assembly, where $(k-1)$-mers form the nodes, and $k$-mers define the directed edges connecting the nodes.\n",
        "\n",
        "[Mermaid.js](https://mermaid.live/) uses a simple, markdown-like syntax within code blocks to create diagrams, making it accessible and easy to integrate into documentation.\n",
        "For constructing flowcharts, such as De Bruijn graphs, you begin by specifying the diagram type with `flowchart` followed by a directional keyword like `LR` (left-to-right) or `TB` (top-to-bottom).\n",
        "Nodes are defined using unique identifiers and can be styled with double parentheses for circular nodes, e.g., `ATC((ATC))`.\n",
        "Directed edges between nodes are represented with arrows (`-->`), indicating the flow from one node to another, such as `ATC --> TCG`.\n",
        "This syntax allows you to visually map relationships by connecting nodes based on their interactions, which is particularly useful for illustrating the overlapping $(k-1)$-mers and $k$-mers in a De Bruijn graph.\n",
        "Additionally, [Mermaid.js](https://mermaid.live/) supports comments using `%%` for clarity and can be customized with styles to enhance the readability and aesthetics of your graph.\n",
        "\n",
        "Here’s a brief example of [Mermaid.js](https://mermaid.live/) syntax for a De Bruijn graph:\n",
        "\n",
        "```mermaid\n",
        "flowchart LR\n",
        "    %% Define Nodes\n",
        "    ATC((ATC))\n",
        "    TCG((TCG))\n",
        "    CGT((CGT))\n",
        "    \n",
        "    %% Define Edges\n",
        "    ATC --> TCG\n",
        "    TCG --> CGT\n",
        "    CGT --> ATC\n",
        "```\n",
        "\n",
        "In this example, `flowchart LR` sets the layout direction, nodes like `ATC`, `TCG`, and `CGT` are created with circular styling, and the arrows (`-->`) establish the directed connections between them."
      ]
    },
    {
      "cell_type": "markdown",
      "metadata": {
        "id": "eQ_hU96Z0wLD"
      },
      "source": [
        "## Q04\n",
        "\n",
        "K-mers are substrings of length $k$ extracted from DNA sequences, often overlapping by one base.\n",
        "For example, the 4-mers in the sequence `\"ATCGTAC\"` are `\"ATCG\"`, `\"TCGT\"`, `\"CGTA\"`, and `\"GTAC\"`.\n",
        "By calculating the frequency of each k-mer across all the reads, we can identify repetitive patterns and unique sequences.\n",
        "\n",
        "### A\n",
        "\n",
        "Your first task is to write a function, `kmer_frequency`, that will:\n",
        "\n",
        "- Take a single argument of a list of DNA sequences and a specified k-mer size $k$ as input.\n",
        "- Return a single dictionary where the keys are unique k-mers and the values are the number of times each k-mer appears across all reads.\n",
        "\n",
        "Imagine you’re working with the following DNA reads:  \n",
        "`[\"ATCGTACGTA\", \"GCGTACGTAA\", \"TACGTAGCGA\"]`  \n",
        "and you’re analyzing 4-mers ($k=4$) for a genome estimated to be 50 bases long.\n",
        "\n",
        "Your function should identify and count all 4-mers across the reads. For example, `\"ATCG\"` appears once, while `\"CGTA\"` appears three times. The resulting dictionary might look like this:\n",
        "\n",
        "```python\n",
        "{\"ATCG\": 1, \"TCGT\": 1, \"CGTA\": 5, \"GTAC\": 2, \"TACG\": 3, \"ACGT\": 3, \"GCGT\": 1, \"GTAA\": 1, \"GTAG\": 1, \"TAGC\": 1, \"AGCG\": 1, \"GCGA\": 1}\n",
        "```"
      ]
    },
    {
      "cell_type": "code",
      "execution_count": 5,
      "metadata": {
        "id": "6fgR5Ame0wLD",
        "colab": {
          "base_uri": "https://localhost:8080/"
        },
        "outputId": "ffa49859-5e70-4d6d-caca-8090da5aa0f2"
      },
      "outputs": [
        {
          "output_type": "stream",
          "name": "stdout",
          "text": [
            "{'ATCG': 1, 'TCGT': 1, 'CGTA': 5, 'GTAC': 2, 'TACG': 3, 'ACGT': 3, 'GCGT': 1, 'GTAA': 1, 'GTAG': 1, 'TAGC': 1, 'AGCG': 1, 'GCGA': 1}\n"
          ]
        }
      ],
      "source": [
        "def kmer_frequency(dna_reads, k_length):\n",
        "  for item in dna_reads:\n",
        "    for i in range(len(item)):\n",
        "        if len(item[0+i:k_length+i]) != k_length:\n",
        "            continue\n",
        "        else:\n",
        "            finallist.append(item[0+i:k_length+i])\n",
        "        continue\n",
        "    continue\n",
        "  for item in finallist:\n",
        "      if item not in finaldictionary:\n",
        "          finaldictionary.update({item:1})\n",
        "      else:\n",
        "\n",
        "          finaldictionary.update({item:finaldictionary.get(item)+1})\n",
        "  return finaldictionary\n",
        "\n",
        "finallist = []\n",
        "finaldictionary = {}\n",
        "print(kmer_frequency([\"ATCGTACGTA\", \"GCGTACGTAA\", \"TACGTAGCGA\"],4))\n",
        "\n"
      ]
    },
    {
      "cell_type": "markdown",
      "metadata": {
        "id": "6E1mMFjV0wLD"
      },
      "source": [
        "### B\n",
        "\n",
        "Once you’ve calculated the k-mer frequencies, you’ll need to find the k-mer that appears most frequently.\n",
        "This step is crucial for identifying repetitive sequences, which may represent highly abundant genes or genomic regions prone to sequencing errors.\n",
        "If multiple k-mers have the same highest frequency, choose the lexicographically smallest one (alphabetical order).\n",
        "\n",
        "You’ll write a second function, `most_frequent_kmer`, that:\n",
        "\n",
        "- Takes the k-mer frequency dictionary as input.\n",
        "- Returns two outputs: the k-mer with the highest frequency and its count.\n",
        "\n",
        "From the above dictionary, `\"CGTA\"` is the most frequent k-mer, appearing 5 times.\n",
        "If there were a tie, you would choose the lexicographically smallest k-mer."
      ]
    },
    {
      "cell_type": "code",
      "execution_count": 53,
      "metadata": {
        "id": "E-EJgOtX0wLD",
        "colab": {
          "base_uri": "https://localhost:8080/"
        },
        "outputId": "6c467e08-6c46-4818-e72a-19ab6ac449e0"
      },
      "outputs": [
        {
          "output_type": "stream",
          "name": "stdout",
          "text": [
            "(5, 'CGTA')\n"
          ]
        }
      ],
      "source": [
        "def most_frequent_kmer(finaldictionary):\n",
        "  largest_value = 0\n",
        "  freq_kmer = None\n",
        "  for kmr, count in finaldictionary.items():\n",
        "    if count > largest_value or (count == largest_value and kmr < freq_kmer):\n",
        "      freq_kmer = kmr\n",
        "      largest_value = count\n",
        "      continue\n",
        "  return largest_value, freq_kmer\n",
        "print(most_frequent_kmer(finaldictionary))"
      ]
    }
  ],
  "metadata": {
    "kernelspec": {
      "display_name": "default",
      "language": "python",
      "name": "python3"
    },
    "language_info": {
      "codemirror_mode": {
        "name": "ipython",
        "version": 3
      },
      "file_extension": ".py",
      "mimetype": "text/x-python",
      "name": "python",
      "nbconvert_exporter": "python",
      "pygments_lexer": "ipython3",
      "version": "3.12.8"
    },
    "colab": {
      "provenance": [],
      "include_colab_link": true
    }
  },
  "nbformat": 4,
  "nbformat_minor": 0
}